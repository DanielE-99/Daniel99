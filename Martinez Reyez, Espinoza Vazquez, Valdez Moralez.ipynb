{
 "cells": [
  {
   "cell_type": "markdown",
   "metadata": {},
   "source": [
    "\"LEARN PYTHON 3\"\n",
    "\n",
    "EXERCISE 1 \"a good first program\"\n",
    "\n",
    "in this example say about, how to install the program and the process that you need to follow and works in python also some example about some windows in python that you need to work."
   ]
  },
  {
   "cell_type": "code",
   "execution_count": 2,
   "metadata": {},
   "outputs": [
    {
     "name": "stdout",
     "output_type": "stream",
     "text": [
      "hello my friend\n",
      "what are you doing?\n",
      "ok let's see\n"
     ]
    }
   ],
   "source": [
    "print(\"hello my friend\")\n",
    "print(\"what are you doing?\")\n",
    "print(\"ok let's see\")"
   ]
  },
  {
   "cell_type": "markdown",
   "metadata": {},
   "source": [
    "EXERCISE 2 \"comments and pound characters\"\n",
    "\n",
    "say about the disabled parts that you need to learn, you can use a comment and do to ignore. We need to write the code that you like or that you see.\n",
    "\n"
   ]
  },
  {
   "cell_type": "code",
   "execution_count": 5,
   "metadata": {},
   "outputs": [
    {
     "name": "stdout",
     "output_type": "stream",
     "text": [
      "HELLO GAYS.\n"
     ]
    }
   ],
   "source": [
    "# USE A COMMENT TO \"DISAPPEAR\" OR COMMENT OUT CODE: \n",
    "print(\"HELLO GAYS.\")"
   ]
  },
  {
   "cell_type": "markdown",
   "metadata": {},
   "source": [
    "EXERCISE 3 \"numbers and math\"\n",
    "\n",
    "This exercise says that we can do the same exercises added some math symbols to do operations and complete some tables or problems with these characters.\n",
    "\n"
   ]
  },
  {
   "cell_type": "code",
   "execution_count": 15,
   "metadata": {},
   "outputs": [
    {
     "name": "stdout",
     "output_type": "stream",
     "text": [
      "11\n"
     ]
    }
   ],
   "source": [
    "print(10+37-4*9)"
   ]
  },
  {
   "cell_type": "markdown",
   "metadata": {},
   "source": [
    "EXERCISE 4 \"variables and names\"\n",
    "\n",
    "now you can print and learn about variables, how to make the problems with variables, and use some math symbols to do some characters."
   ]
  },
  {
   "cell_type": "code",
   "execution_count": 25,
   "metadata": {},
   "outputs": [
    {
     "name": "stdout",
     "output_type": "stream",
     "text": [
      "there are 47 flowers available.\n"
     ]
    }
   ],
   "source": [
    "flowers = 47\n",
    "print(\"there are\", flowers, \"flowers available.\")"
   ]
  },
  {
   "cell_type": "markdown",
   "metadata": {},
   "source": [
    "EXERCISE 5 \"more variables and printing\"\n",
    "\n",
    "this exercise explains to make a format string and put double-quotes around the piece of text. learning some exercise you will do strings that could contain variables."
   ]
  },
  {
   "cell_type": "code",
   "execution_count": 26,
   "metadata": {},
   "outputs": [
    {
     "name": "stdout",
     "output_type": "stream",
     "text": [
      "let's talk about espinoza martinez.\n",
      "he's 41.\n",
      "let's talk about daniel.\n"
     ]
    }
   ],
   "source": [
    "my_nickname = 'espinoza martinez'\n",
    "my_age = '41'\n",
    "my_name = 'daniel'\n",
    "print(f\"let's talk about {my_nickname}.\")\n",
    "print(f\"he's {my_age}.\")\n",
    "print(f\"let's talk about {my_name}.\")\n",
    "\n"
   ]
  },
  {
   "cell_type": "markdown",
   "metadata": {},
   "source": [
    "EXERCISE 6 \"strings and text\"\n",
    "\n",
    "you have been writing strings that they do, we will create a bunch of variables and explain these strings, this contains some numbers of variables that are called f-string."
   ]
  },
  {
   "cell_type": "code",
   "execution_count": 27,
   "metadata": {},
   "outputs": [
    {
     "name": "stdout",
     "output_type": "stream",
     "text": [
      " we have 5 types of flower.\n"
     ]
    }
   ],
   "source": [
    "types_of_flowers = 5\n",
    "x = f\" we have {types_of_flowers} types of flower.\"\n",
    "print(x)\n"
   ]
  },
  {
   "cell_type": "markdown",
   "metadata": {},
   "source": [
    "EXERCISE 7 \"more printing\"\n",
    "In this exercise, we are to learn, how to do a branch with exercises with a type code to make to run."
   ]
  },
  {
   "cell_type": "code",
   "execution_count": 62,
   "metadata": {},
   "outputs": [
    {
     "name": "stdout",
     "output_type": "stream",
     "text": [
      "chaneke need 4 flowers\n",
      "chaneke buy white flowers\n"
     ]
    }
   ],
   "source": [
    "print(\"chaneke need 4 flowers\")\n",
    "print(\"chaneke buy white flowers\")"
   ]
  },
  {
   "cell_type": "markdown",
   "metadata": {},
   "source": [
    "\n",
    "EXERCISE 8 \"printing, printing\"\n",
    "\n",
    "exercise say that we used some functions that we use into the strings and writing format in python."
   ]
  },
  {
   "cell_type": "code",
   "execution_count": 59,
   "metadata": {},
   "outputs": [
    {
     "name": "stdout",
     "output_type": "stream",
     "text": [
      " red blue brown black \n"
     ]
    }
   ],
   "source": [
    "formatter = \" {} {} {} {} \"\n",
    "print(formatter . format(\"red\", \"blue\", \"brown\", \"black\"))"
   ]
  },
  {
   "cell_type": "markdown",
   "metadata": {},
   "source": [
    "\n",
    "EXERCISE 9 \"printing,printing,printing\"\n",
    "in this exercise you learn about some things that you don't understand, more exercises explain concepts to learn to do, if you learn, let's go."
   ]
  },
  {
   "cell_type": "code",
   "execution_count": 44,
   "metadata": {},
   "outputs": [
    {
     "name": "stdout",
     "output_type": "stream",
     "text": [
      "here are flowers: sunflower, roses\n"
     ]
    }
   ],
   "source": [
    "flowers = \"sunflower, roses\"\n",
    "print(\"here are flowers:\", flowers)"
   ]
  },
  {
   "cell_type": "markdown",
   "metadata": {},
   "source": [
    "EXERCISE 10 \"What was that?\n",
    "this exercise does emphasis the exercise with its characters and variables, has a different type of character into a string that you want to use you can solve the escape with a double-quote and finally resolve with triple-quotes and works with this"
   ]
  },
  {
   "cell_type": "code",
   "execution_count": 42,
   "metadata": {},
   "outputs": [
    {
     "name": "stdout",
     "output_type": "stream",
     "text": [
      "I'm red in.\n"
     ]
    }
   ],
   "source": [
    "red_flowers = \"I'm red in.\"\n",
    "print( red_flowers)\n"
   ]
  },
  {
   "cell_type": "code",
   "execution_count": null,
   "metadata": {},
   "outputs": [],
   "source": []
  }
 ],
 "metadata": {
  "kernelspec": {
   "display_name": "Python 3",
   "language": "python",
   "name": "python3"
  },
  "language_info": {
   "codemirror_mode": {
    "name": "ipython",
    "version": 3
   },
   "file_extension": ".py",
   "mimetype": "text/x-python",
   "name": "python",
   "nbconvert_exporter": "python",
   "pygments_lexer": "ipython3",
   "version": "3.7.4"
  }
 },
 "nbformat": 4,
 "nbformat_minor": 2
}
